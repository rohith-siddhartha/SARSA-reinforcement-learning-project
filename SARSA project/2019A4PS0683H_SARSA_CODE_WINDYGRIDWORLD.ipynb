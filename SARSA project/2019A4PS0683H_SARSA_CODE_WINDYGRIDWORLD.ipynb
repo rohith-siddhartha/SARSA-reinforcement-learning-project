{
 "cells": [
  {
   "cell_type": "markdown",
   "id": "09cd28f7",
   "metadata": {},
   "source": [
    "# SARSA Code for the Windy Gridworld"
   ]
  },
  {
   "cell_type": "markdown",
   "id": "f3f47f71",
   "metadata": {},
   "source": [
    "Importing the required libraries"
   ]
  },
  {
   "cell_type": "code",
   "execution_count": 9,
   "id": "143c40ac",
   "metadata": {},
   "outputs": [],
   "source": [
    "import numpy as np\n",
    "import matplotlib\n",
    "import matplotlib.pyplot as plt"
   ]
  },
  {
   "cell_type": "markdown",
   "id": "12545de3",
   "metadata": {},
   "source": [
    "Creating the Windy Gridworld"
   ]
  },
  {
   "cell_type": "code",
   "execution_count": 10,
   "id": "7c92543e",
   "metadata": {},
   "outputs": [],
   "source": [
    "# Defining the world parameters\n",
    "\n",
    "# world height\n",
    "world_height = 7\n",
    "# world width\n",
    "world_width = 10\n",
    "\n",
    "# wind strength for each column\n",
    "WIND = [0, 0, 0, 1, 1, 1, 2, 2, 1, 0]"
   ]
  },
  {
   "cell_type": "markdown",
   "id": "076f0ab4",
   "metadata": {},
   "source": [
    "Defining the actions and states for the agent"
   ]
  },
  {
   "cell_type": "code",
   "execution_count": 11,
   "id": "3bf41f59",
   "metadata": {},
   "outputs": [],
   "source": [
    "# actions\n",
    "action_up = 0\n",
    "action_down = 1\n",
    "action_left = 2\n",
    "action_right = 3\n",
    "\n",
    "# set of actions\n",
    "ACTIONS = [action_up, action_down, action_left, action_right]\n",
    "\n",
    "# states can be taken as the positions in the grid\n",
    "# start state\n",
    "START = [0, 3]\n",
    "# goal state\n",
    "GOAL = [7, 3]"
   ]
  },
  {
   "cell_type": "markdown",
   "id": "caf50af1",
   "metadata": {},
   "source": [
    "SARSA parameters"
   ]
  },
  {
   "cell_type": "code",
   "execution_count": 12,
   "id": "b539f523",
   "metadata": {},
   "outputs": [],
   "source": [
    "# probability for exploration\n",
    "EPSILON = 0.1\n",
    "# Sarsa step size\n",
    "ALPHA = 0.5\n",
    "# Discount factor\n",
    "GAMMA = 0.5\n",
    "# reward for each step\n",
    "REWARD = -1.0"
   ]
  },
  {
   "cell_type": "markdown",
   "id": "da9ac14f",
   "metadata": {},
   "source": [
    "Creating the step function (action in a state)"
   ]
  },
  {
   "cell_type": "code",
   "execution_count": 13,
   "id": "4b50ac92",
   "metadata": {},
   "outputs": [],
   "source": [
    "def step(state, action):\n",
    "    i, j = state\n",
    "    if action == action_up:\n",
    "        return [i,min(j + 1 + WIND[i], world_height - 1)]\n",
    "    elif action == action_down:\n",
    "        return [i,max(min(j -1 + WIND[i], world_height - 1), 0)]\n",
    "    elif action == action_left:\n",
    "        return [max(i-1,0),min(j + WIND[i], world_height - 1)]\n",
    "    elif action == action_right:\n",
    "        return [min(i + 1, world_width - 1),min(j + WIND[i], world_height - 1)]\n",
    "    else:\n",
    "        assert False"
   ]
  },
  {
   "cell_type": "markdown",
   "id": "f12c19e6",
   "metadata": {},
   "source": [
    "Code for plotting a state"
   ]
  },
  {
   "cell_type": "code",
   "execution_count": 14,
   "id": "a3227c88",
   "metadata": {},
   "outputs": [],
   "source": [
    "def state_plot(state,ep, time):\n",
    "    \n",
    "    '''\n",
    "    This fucntion is used to plot a particular state\n",
    "    And all the plots of states of an episode can used to make a simulation video\n",
    "    '''\n",
    "    fig = plt.figure()\n",
    "    ax = fig.add_subplot(111)\n",
    "    \n",
    "    # start state in green\n",
    "    rect1 = matplotlib.patches.Rectangle((0, 3),1, 1,color ='green')\n",
    "    # goal state in red\n",
    "    rect2 = matplotlib.patches.Rectangle((7, 3),1, 1,color ='red')\n",
    "    # agent in blue\n",
    "    rect3 = matplotlib.patches.Rectangle((state[0], state[1]),1, 1,color ='blue')\n",
    "\n",
    "\n",
    "    ax.add_patch(rect1)\n",
    "    ax.add_patch(rect2)\n",
    "    ax.add_patch(rect3)\n",
    "\n",
    "    plt.xlim(0, 10)\n",
    "    plt.ylim(0, 7)\n",
    "    plt.grid(True)\n",
    "    plt.savefig(\"pics/%s_%s.png\" % (ep,time))"
   ]
  },
  {
   "cell_type": "markdown",
   "id": "bcf2d265",
   "metadata": {},
   "source": [
    "Code for an episode"
   ]
  },
  {
   "cell_type": "code",
   "execution_count": 15,
   "id": "4e273d57",
   "metadata": {},
   "outputs": [],
   "source": [
    "# function for an episode\n",
    "def episode(q_value,ep):\n",
    "    # tracking the total time steps taken to complete the episode\n",
    "    time = 0\n",
    "    # initial state\n",
    "    state = START\n",
    "    \n",
    "    # choose an action based on epsilon-greedy policy\n",
    "    if np.random.binomial(1, EPSILON) == 1:\n",
    "        action = np.random.choice(ACTIONS)\n",
    "    else:\n",
    "        values_ = q_value[state[0], state[1], :]\n",
    "        action = np.random.choice([action_ for action_, value_ in enumerate(values_) if value_ == np.max(values_)])\n",
    "        \n",
    "    \n",
    "    # Use this code only if you want a simulation video for the episodes\n",
    "    '''\n",
    "    if (ep==0 or ep==499):\n",
    "        state_plot(state,ep,time)\n",
    "    '''\n",
    "    \n",
    "    \n",
    "    # keep going until the agent reaches the goal state\n",
    "    while state != GOAL:\n",
    "        next_state = step(state, action)\n",
    "        if np.random.binomial(1, EPSILON) == 1:\n",
    "            next_action = np.random.choice(ACTIONS)\n",
    "        else:\n",
    "            values_ = q_value[next_state[0], next_state[1], :]\n",
    "            next_action = np.random.choice([action_ for action_, value_ in enumerate(values_) if value_ == np.max(values_)])\n",
    "            \n",
    "            \n",
    "        # Sarsa Q-value update\n",
    "        q_value[state[0], state[1], action] += \\\n",
    "            ALPHA * (REWARD + GAMMA*q_value[next_state[0], next_state[1], next_action] -\n",
    "                     q_value[state[0], state[1], action])\n",
    "        state = next_state\n",
    "        action = next_action\n",
    "        time += 1\n",
    "        \n",
    "        \n",
    "        # Use this code only if you want a simulation video for the episodes\n",
    "        '''\n",
    "        if (ep==0 or ep==499):\n",
    "            state_plot(state,ep,time)\n",
    "        '''\n",
    "        \n",
    "        \n",
    "    return time"
   ]
  },
  {
   "cell_type": "markdown",
   "id": "b366563c",
   "metadata": {},
   "source": [
    "1. Running 500 episodes\n",
    "2. Generating the episodes vs timesteps graph"
   ]
  },
  {
   "cell_type": "code",
   "execution_count": 16,
   "id": "2738d98c",
   "metadata": {},
   "outputs": [
    {
     "data": {
      "image/png": "[encoded data removed]",
      "text/plain": [
       "<Figure size 432x288 with 1 Axes>"
      ]
     },
     "metadata": {
      "needs_background": "light"
     },
     "output_type": "display_data"
    },
    {
     "name": "stdout",
     "output_type": "stream",
     "text": [
      "Optimal policy is:\n",
      "['D', 'R', 'R', 'L', 'U', 'U', 'U', 'U', 'L', 'U']\n",
      "['R', 'D', 'R', 'R', 'R', 'U', 'U', 'R', 'L', 'U']\n",
      "['U', 'R', 'R', 'R', 'D', 'R', 'U', 'D', 'L', 'L']\n",
      "['R', 'R', 'R', 'R', 'R', 'R', 'L', 'G', 'U', 'D']\n",
      "['R', 'D', 'R', 'R', 'R', 'R', 'U', 'L', 'R', 'D']\n",
      "['L', 'R', 'R', 'R', 'R', 'R', 'R', 'R', 'R', 'D']\n",
      "['R', 'R', 'R', 'R', 'R', 'R', 'R', 'R', 'R', 'D']\n",
      "Wind strength for each column:\n",
      "['0', '0', '0', '1', '1', '1', '2', '2', '1', '0']\n"
     ]
    }
   ],
   "source": [
    "def SARSA_plot():\n",
    "    \n",
    "    # Initializing the q-values\n",
    "    q_value = np.zeros((world_width, world_height, 4))\n",
    "    # Number of episodes\n",
    "    episode_limit = 500\n",
    "    steps = []\n",
    "    ep = 0\n",
    "    while ep < episode_limit:\n",
    "        steps.append(episode(q_value,ep))\n",
    "        # time = episode(q_value)\n",
    "        # episodes.extend([ep] * time)\n",
    "        ep += 1\n",
    "        \n",
    "    # cummulative values of time steps\n",
    "    steps = np.add.accumulate(steps)\n",
    "    \n",
    "    # Plotting\n",
    "    plt.plot(steps, np.arange(1, len(steps) + 1))\n",
    "    plt.xlabel('Time steps')\n",
    "    plt.ylabel('Episodes')\n",
    "    plt.savefig('SARSA_EPvsTS.png')\n",
    "    plt.show()\n",
    "    plt.close()\n",
    "    \n",
    "    \n",
    "    \n",
    "    # Finding and printing the optimal policy\n",
    "    optimal_policy = []\n",
    "    for j in range(0, world_height):\n",
    "        optimal_policy.append([])\n",
    "        for i in range(0, world_width):\n",
    "            if [i, j] == GOAL:\n",
    "                optimal_policy[-1].append('G')\n",
    "                continue\n",
    "            bestAction = np.argmax(q_value[i, j, :])\n",
    "            if bestAction == action_up:\n",
    "                optimal_policy[-1].append('U')\n",
    "            elif bestAction == action_down:\n",
    "                optimal_policy[-1].append('D')\n",
    "            elif bestAction == action_left:\n",
    "                optimal_policy[-1].append('L')\n",
    "            elif bestAction == action_right:\n",
    "                optimal_policy[-1].append('R')\n",
    "    print('Optimal policy is:')\n",
    "    for row in optimal_policy:\n",
    "        print(row)\n",
    "    print('Wind strength for each column:\\n{}'.format([str(w) for w in WIND]))\n",
    "    \n",
    "    return q_value\n",
    "if __name__ == '__main__':\n",
    "    SARSA_plot()"
   ]
  },
  {
   "cell_type": "markdown",
   "id": "67d4219a",
   "metadata": {},
   "source": [
    "# The End"
   ]
  },
  {
   "cell_type": "code",
   "execution_count": null,
   "id": "c7f9c1ae",
   "metadata": {},
   "outputs": [],
   "source": []
  }
 ],
 "metadata": {
  "kernelspec": {
   "display_name": "Python 3 (ipykernel)",
   "language": "python",
   "name": "python3"
  },
  "language_info": {
   "codemirror_mode": {
    "name": "ipython",
    "version": 3
   },
   "file_extension": ".py",
   "mimetype": "text/x-python",
   "name": "python",
   "nbconvert_exporter": "python",
   "pygments_lexer": "ipython3",
   "version": "3.9.7"
  }
 },
 "nbformat": 4,
 "nbformat_minor": 5
}
